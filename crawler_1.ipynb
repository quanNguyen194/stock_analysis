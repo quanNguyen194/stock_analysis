{
 "cells": [
  {
   "cell_type": "code",
   "execution_count": 1,
   "id": "previous-delta",
   "metadata": {},
   "outputs": [],
   "source": [
    "import requests\n",
    "from bs4 import BeautifulSoup as bs\n",
    "import json"
   ]
  },
  {
   "cell_type": "code",
   "execution_count": 2,
   "id": "graphic-portable",
   "metadata": {},
   "outputs": [],
   "source": [
    "headers = {'User-Agent': 'Mozilla/5.0 (X11; Linux x86_64) AppleWebKit/537.36 (KHTML, like Gecko) Chrome/88.0.4324.182 Safari/537.36'}\n",
    "page = requests.get('https://finance.vietstock.vn/data/getmarketprice?type=2', headers=headers)\n",
    "\n",
    "soup = bs(page.content, 'html.parser')"
   ]
  },
  {
   "cell_type": "code",
   "execution_count": 3,
   "id": "cleared-spell",
   "metadata": {},
   "outputs": [
    {
     "name": "stdout",
     "output_type": "stream",
     "text": [
      "{'Code': 'VNIndex', 'Name': 'VN-Index', 'Price': 1181.73, 'Change': 11.65, 'PerChange': 1.0, 'Color': '#39ca32', 'TradingDate': '/Date(1615395600000)/'}\n"
     ]
    }
   ],
   "source": [
    "y=json.loads(soup.text)\n",
    "print(y[0])"
   ]
  },
  {
   "cell_type": "code",
   "execution_count": 5,
   "id": "flexible-romantic",
   "metadata": {},
   "outputs": [
    {
     "data": {
      "text/plain": [
       "<Response [403]>"
      ]
     },
     "execution_count": 5,
     "metadata": {},
     "output_type": "execute_result"
    }
   ],
   "source": [
    "stockAAA = 'https://finance.vietstock.vn/company/tradinginfo'\n",
    "pageAAA=requests.post(stockAAA)\n",
    "pageAAA"
   ]
  },
  {
   "cell_type": "code",
   "execution_count": null,
   "id": "willing-logistics",
   "metadata": {},
   "outputs": [],
   "source": []
  }
 ],
 "metadata": {
  "kernelspec": {
   "display_name": "Python 3",
   "language": "python",
   "name": "python3"
  },
  "language_info": {
   "codemirror_mode": {
    "name": "ipython",
    "version": 3
   },
   "file_extension": ".py",
   "mimetype": "text/x-python",
   "name": "python",
   "nbconvert_exporter": "python",
   "pygments_lexer": "ipython3",
   "version": "3.8.5"
  }
 },
 "nbformat": 4,
 "nbformat_minor": 5
}
