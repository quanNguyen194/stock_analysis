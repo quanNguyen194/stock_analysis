{
 "cells": [
  {
   "cell_type": "code",
   "execution_count": 8,
   "id": "burning-israeli",
   "metadata": {},
   "outputs": [],
   "source": [
    "import requests\n",
    "from bs4 import BeautifulSoup as bs\n",
    "import json"
   ]
  },
  {
   "cell_type": "code",
   "execution_count": 11,
   "id": "thirty-wisdom",
   "metadata": {},
   "outputs": [
    {
     "name": "stdout",
     "output_type": "stream",
     "text": [
      "[{\"change\":\"2.28\",\"index\":\"267.10\",\"name\":\"HNXINDEX\",\"percent\":\"0.86\",\"volume\":\"163,218,012\",\"value\":\"2,397.95\"},{\"change\":\"8.11\",\"index\":\"1,170.08\",\"name\":\"VNINDEX\",\"percent\":\"0.70\",\"volume\":\"723,921,771\",\"value\":\"17,926.38\"},{\"change\":\"6.61\",\"index\":\"388.76\",\"name\":\"HNX30\",\"percent\":\"1.73\",\"volume\":\"95,197,800\",\"value\":\"1,605.73\"},{\"change\":\"0.70\",\"index\":\"80.24\",\"name\":\"HNXUPCOMINDEX\",\"percent\":\"0.88\",\"volume\":\"55,016,000\",\"value\":\"915.05\"},{\"change\":\"9.26\",\"index\":\"1,172.26\",\"name\":\"VN30\",\"percent\":\"0.80\",\"volume\":\"183,227,925\",\"value\":\"6,657.24\"}]\n"
     ]
    }
   ],
   "source": [
    "page = requests.get('https://banggia.cafef.vn/stockhandler.ashx?index=true&fbclid=IwAR1nCSf1XZYoDPTxcy3PK_iwSAFxUy17i_8CBVj2oX2iinSz0BmIhLCFU8g')\n",
    "soup = bs(page.content, 'html.parser')\n",
    "print(soup)"
   ]
  },
  {
   "cell_type": "code",
   "execution_count": 13,
   "id": "caring-investment",
   "metadata": {},
   "outputs": [
    {
     "name": "stdout",
     "output_type": "stream",
     "text": [
      "{'change': '2.28', 'index': '267.10', 'name': 'HNXINDEX', 'percent': '0.86', 'volume': '163,218,012', 'value': '2,397.95'}\n"
     ]
    }
   ],
   "source": [
    "y=json.loads(soup.text)\n",
    "print(y[0])"
   ]
  },
  {
   "cell_type": "code",
   "execution_count": null,
   "id": "incorrect-summer",
   "metadata": {},
   "outputs": [],
   "source": []
  }
 ],
 "metadata": {
  "kernelspec": {
   "display_name": "Python 3",
   "language": "python",
   "name": "python3"
  },
  "language_info": {
   "codemirror_mode": {
    "name": "ipython",
    "version": 3
   },
   "file_extension": ".py",
   "mimetype": "text/x-python",
   "name": "python",
   "nbconvert_exporter": "python",
   "pygments_lexer": "ipython3",
   "version": "3.8.5"
  }
 },
 "nbformat": 4,
 "nbformat_minor": 5
}
